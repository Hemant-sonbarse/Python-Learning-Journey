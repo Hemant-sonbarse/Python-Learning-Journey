{
 "cells": [
  {
   "cell_type": "markdown",
   "metadata": {},
   "source": [
    "What is Operator Overloading?\n",
    "\n",
    "Operator overloading allows us to define custom behavior for Python operators (+, -, *, etc.) when used with objects of a class.\n",
    "\n",
    "\n",
    "By overloading the + operator, we can define custom addition for objects! 🎯\n"
   ]
  },
  {
   "cell_type": "markdown",
   "metadata": {},
   "source": [
    "## Harry Code\n"
   ]
  },
  {
   "cell_type": "code",
   "execution_count": 6,
   "metadata": {},
   "outputs": [
    {
     "name": "stdout",
     "output_type": "stream",
     "text": [
      "3\n"
     ]
    }
   ],
   "source": [
    "class Number :\n",
    "    def __init__(self, n):\n",
    "        self.n = n\n",
    "    \n",
    "    def __add__(self, num) :\n",
    "        return self.n + num.n\n",
    "    \n",
    "n = Number(1)\n",
    "m = Number(2)\n",
    "print(n + m)"
   ]
  },
  {
   "cell_type": "markdown",
   "metadata": {},
   "source": [
    "Example 1: Overloading + Operator"
   ]
  },
  {
   "cell_type": "code",
   "execution_count": 1,
   "metadata": {},
   "outputs": [
    {
     "name": "stdout",
     "output_type": "stream",
     "text": [
      "(6, 8)\n"
     ]
    }
   ],
   "source": [
    "class Point:\n",
    "    def __init__(self, x, y):\n",
    "        self.x = x\n",
    "        self.y = y\n",
    "\n",
    "    def __add__(self, other):\n",
    "        return Point(self.x + other.x, self.y + other.y)  # Adding coordinates\n",
    "\n",
    "    def __str__(self):\n",
    "        return f\"({self.x}, {self.y})\"\n",
    "\n",
    "# Creating objects\n",
    "p1 = Point(2, 3)\n",
    "p2 = Point(4, 5)\n",
    "\n",
    "# Using overloaded `+` operator\n",
    "p3 = p1 + p2  # Same as p1.__add__(p2)\n",
    "print(p3)  # Output: (6, 8)\n"
   ]
  },
  {
   "cell_type": "markdown",
   "metadata": {},
   "source": [
    " Example 2: Overloading * Operator\n"
   ]
  },
  {
   "cell_type": "code",
   "execution_count": 2,
   "metadata": {},
   "outputs": [
    {
     "name": "stdout",
     "output_type": "stream",
     "text": [
      "500\n"
     ]
    }
   ],
   "source": [
    "class Product:\n",
    "    def __init__(self, price):\n",
    "        self.price = price\n",
    "\n",
    "    def __mul__(self, quantity):\n",
    "        return self.price * quantity  # Multiply price by quantity\n",
    "\n",
    "p = Product(100)\n",
    "print(p * 5)  # Output: 500 (100 * 5)\n"
   ]
  },
  {
   "cell_type": "markdown",
   "metadata": {},
   "source": [
    " __str__() – String Representation\n",
    "Called when you print an object.\n",
    "\n",
    "If not defined, it prints the memory location instead.\n",
    "\n",
    "Example: Overriding __str__()"
   ]
  },
  {
   "cell_type": "code",
   "execution_count": 3,
   "metadata": {},
   "outputs": [
    {
     "name": "stdout",
     "output_type": "stream",
     "text": [
      "Person(name=John, age=25)\n"
     ]
    }
   ],
   "source": [
    "class Person:\n",
    "    def __init__(self, name, age):\n",
    "        self.name = name\n",
    "        self.age = age  \n",
    "\n",
    "    def __str__(self):\n",
    "        return f\"Person(name={self.name}, age={self.age})\"  # Custom string output\n",
    "\n",
    "p = Person(\"John\", 25)\n",
    "print(p)  # Output: Person(name=John, age=25)\n"
   ]
  },
  {
   "cell_type": "markdown",
   "metadata": {},
   "source": [
    "__len__() – Define len() for Objects\n",
    "Called when len(obj) is used.\n",
    "\n",
    "Example: Find the number of pages in a book.\n",
    "\n",
    "Example: Overriding __len__()"
   ]
  },
  {
   "cell_type": "code",
   "execution_count": 4,
   "metadata": {},
   "outputs": [
    {
     "name": "stdout",
     "output_type": "stream",
     "text": [
      "250\n"
     ]
    }
   ],
   "source": [
    "class Book:\n",
    "    def __init__(self, pages):\n",
    "        self.pages = pages  \n",
    "\n",
    "    def __len__(self):\n",
    "        return self.pages  # Now len() returns book pages\n",
    "\n",
    "book = Book(250)\n",
    "print(len(book))  # Output: 250\n"
   ]
  },
  {
   "cell_type": "markdown",
   "metadata": {},
   "source": [
    "Full Example: Overloading Operators with __str__() and __len__()\n"
   ]
  },
  {
   "cell_type": "code",
   "execution_count": 5,
   "metadata": {},
   "outputs": [
    {
     "name": "stdout",
     "output_type": "stream",
     "text": [
      "Book: Python Basics, Pages: 200\n",
      "200\n",
      "500\n"
     ]
    }
   ],
   "source": [
    "class Book:\n",
    "    def __init__(self, title, pages):\n",
    "        self.title = title\n",
    "        self.pages = pages  \n",
    "\n",
    "    def __add__(self, other):  # Overload +\n",
    "        return self.pages + other.pages  \n",
    "\n",
    "    def __str__(self):  # Overload print()\n",
    "        return f\"Book: {self.title}, Pages: {self.pages}\"\n",
    "\n",
    "    def __len__(self):  # Overload len()\n",
    "        return self.pages\n",
    "\n",
    "book1 = Book(\"Python Basics\", 200)\n",
    "book2 = Book(\"Advanced Python\", 300)\n",
    "\n",
    "print(book1)  # Output: Book: Python Basics, Pages: 200\n",
    "print(len(book1))  # Output: 200\n",
    "print(book1 + book2)  # Output: 500\n"
   ]
  }
 ],
 "metadata": {
  "kernelspec": {
   "display_name": "Python 3",
   "language": "python",
   "name": "python3"
  },
  "language_info": {
   "codemirror_mode": {
    "name": "ipython",
    "version": 3
   },
   "file_extension": ".py",
   "mimetype": "text/x-python",
   "name": "python",
   "nbconvert_exporter": "python",
   "pygments_lexer": "ipython3",
   "version": "3.10.2"
  }
 },
 "nbformat": 4,
 "nbformat_minor": 2
}

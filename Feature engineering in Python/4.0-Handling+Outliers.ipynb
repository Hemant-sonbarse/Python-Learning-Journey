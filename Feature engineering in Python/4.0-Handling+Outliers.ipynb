{
 "cells": [
  {
   "cell_type": "markdown",
   "id": "80325443",
   "metadata": {},
   "source": [
    "### Example of Z-Score for Outlier Detection:\n",
    "\n",
    "The Z-score measures how far a data point is from the mean, in terms of standard deviations. A Z-score greater than 3 or less than -3 often indicates an outlier.\n",
    "\n",
    "Formula:\n",
    "\n",
    "𝑍 = 𝑋 − 𝜇 / 𝜎\n",
    " \n",
    "Where:\n",
    "\n",
    "X is the data point.\n",
    "\n",
    "μ is the mean of the dataset.\n",
    "\n",
    "σ is the standard deviation of the dataset."
   ]
  },
  {
   "cell_type": "code",
   "execution_count": 21,
   "id": "7d035089",
   "metadata": {},
   "outputs": [
    {
     "name": "stdout",
     "output_type": "stream",
     "text": [
      "    marks   z_score\n",
      "17    200  3.393311\n"
     ]
    }
   ],
   "source": [
    "import numpy as np\n",
    "import pandas as pd\n",
    "from scipy.stats import zscore\n",
    "\n",
    "# Example data\n",
    "data = [45, 32, 56, 75, 89, 54, 32, 89, 90, 87, 67, 54, 45, 98, 99, 67, 74, 200]  # Adding an outlier\n",
    "\n",
    "# Convert to pandas DataFrame\n",
    "df = pd.DataFrame(data, columns=['marks'])\n",
    "\n",
    "# Calculate Z-scores\n",
    "df['z_score'] = zscore(df['marks'])\n",
    "\n",
    "# Identify outliers (Z-score > 3 or Z-score < -3)\n",
    "outliers = df[df['z_score'].abs() > 3]\n",
    "print(outliers)\n"
   ]
  },
  {
   "cell_type": "markdown",
   "id": "a96c614a",
   "metadata": {},
   "source": [
    "### Interquartile Range (IQR) Method\n",
    "\n",
    "The Interquartile Range (IQR) is a measure of statistical dispersion, or in simpler terms, the spread of the middle 50% of values in the dataset. Outliers are defined as values that are beyond 1.5 times the IQR from Q1 (25th percentile) and Q3 (75th percentile).\n",
    "\n",
    "Formula:\n",
    "\n",
    "Lower Bound: Q1 - 1.5 × IQR\n",
    "\n",
    "Upper Bound: Q3 + 1.5 × IQR"
   ]
  },
  {
   "cell_type": "code",
   "execution_count": 23,
   "id": "96f3a6a8",
   "metadata": {},
   "outputs": [
    {
     "name": "stdout",
     "output_type": "stream",
     "text": [
      "    marks   z_score\n",
      "17    200  3.393311\n"
     ]
    }
   ],
   "source": [
    "# Calculate Q1, Q3, and IQR\n",
    "Q1 = np.percentile(df['marks'], 25)\n",
    "Q3 = np.percentile(df['marks'], 75)\n",
    "IQR = Q3 - Q1\n",
    "\n",
    "# Calculate the lower and upper bounds\n",
    "lower_bound = Q1 - 1.5 * IQR\n",
    "upper_bound = Q3 + 1.5 * IQR\n",
    "\n",
    "# Identify outliers\n",
    "outliers_iqr = df[(df['marks'] < lower_bound) | (df['marks'] > upper_bound)]\n",
    "print(outliers_iqr)\n"
   ]
  },
  {
   "cell_type": "code",
   "execution_count": 24,
   "id": "b4018690",
   "metadata": {},
   "outputs": [
    {
     "data": {
      "image/png": "[encoded data removed]",
      "text/plain": [
       "<Figure size 640x480 with 1 Axes>"
      ]
     },
     "metadata": {},
     "output_type": "display_data"
    }
   ],
   "source": [
    "# Visualize the outlier\n",
    "\n",
    "import seaborn as sns\n",
    "import matplotlib.pyplot as plt\n",
    "\n",
    "# Create a box plot\n",
    "sns.boxplot(data=df['marks'])\n",
    "plt.show()\n"
   ]
  },
  {
   "cell_type": "code",
   "execution_count": 25,
   "id": "f15c0aaf",
   "metadata": {},
   "outputs": [
    {
     "data": {
      "image/png": "[encoded data removed]",
      "text/plain": [
       "<Figure size 640x480 with 1 Axes>"
      ]
     },
     "metadata": {},
     "output_type": "display_data"
    }
   ],
   "source": [
    "df['marks'].hist(bins=20)\n",
    "plt.show()\n"
   ]
  },
  {
   "cell_type": "markdown",
   "id": "75c715ea",
   "metadata": {},
   "source": [
    "### How to Handle Outliers?\n",
    "Once outliers are detected, there are several ways to handle them. You can remove, impute, or transform the data to handle outliers.\n",
    "\n",
    "A. Removing Outliers\n",
    "If the outliers are errors or don't add value to your analysis, you can remove them from your dataset. This is the simplest approach but should be done carefully to avoid losing valuable data."
   ]
  },
  {
   "cell_type": "code",
   "execution_count": 5,
   "id": "92200851",
   "metadata": {},
   "outputs": [
    {
     "name": "stdout",
     "output_type": "stream",
     "text": [
      "    marks   z_score\n",
      "0      45 -0.820013\n",
      "1      32 -1.173388\n",
      "2      56 -0.521002\n",
      "3      75 -0.004530\n",
      "4      89  0.376028\n",
      "5      54 -0.575368\n",
      "6      32 -1.173388\n",
      "7      89  0.376028\n",
      "8      90  0.403211\n",
      "9      87  0.321662\n",
      "10     67 -0.221992\n",
      "11     54 -0.575368\n",
      "12     45 -0.820013\n",
      "13     98  0.620672\n",
      "14     99  0.647855\n",
      "15     67 -0.221992\n",
      "16     74 -0.031713\n",
      "    marks   z_score\n",
      "0      45 -0.820013\n",
      "1      32 -1.173388\n",
      "2      56 -0.521002\n",
      "3      75 -0.004530\n",
      "4      89  0.376028\n",
      "5      54 -0.575368\n",
      "6      32 -1.173388\n",
      "7      89  0.376028\n",
      "8      90  0.403211\n",
      "9      87  0.321662\n",
      "10     67 -0.221992\n",
      "11     54 -0.575368\n",
      "12     45 -0.820013\n",
      "13     98  0.620672\n",
      "14     99  0.647855\n",
      "15     67 -0.221992\n",
      "16     74 -0.031713\n"
     ]
    }
   ],
   "source": [
    "# Remove outliers based on Z-score method\n",
    "df_no_outliers = df[df['z_score'].abs() <= 3]\n",
    "print(df_no_outliers)\n",
    "\n",
    "# Remove outliers based on IQR method\n",
    "df_no_outliers_iqr = df[(df['marks'] >= lower_bound) & (df['marks'] <= upper_bound)]\n",
    "print(df_no_outliers_iqr)\n"
   ]
  },
  {
   "cell_type": "markdown",
   "id": "977bc1e8",
   "metadata": {},
   "source": [
    "B. Imputing Outliers\n",
    "Sometimes, it’s not a good idea to remove outliers, especially if you believe they represent valid data but are just extreme values. In such cases, you can impute the outliers, for example, replacing them with the mean, median, or a value within the acceptable range.\n",
    "\n",
    "Example of Imputing with Median:\n",
    "python\n",
    "Copy code\n"
   ]
  },
  {
   "cell_type": "code",
   "execution_count": 6,
   "id": "45e30cc7",
   "metadata": {},
   "outputs": [],
   "source": [
    "median_value = df['marks'].median()\n",
    "df['marks'] = np.where(df['marks'] > upper_bound, median_value, df['marks'])\n",
    "df['marks'] = np.where(df['marks'] < lower_bound, median_value, df['marks'])\n"
   ]
  },
  {
   "cell_type": "markdown",
   "id": "9a2a3fa3",
   "metadata": {},
   "source": [
    "C. Transforming Data\n",
    "Outliers can also be handled by applying a transformation to the data that minimizes the influence of extreme values.\n",
    "\n",
    "1) Log Transformation: This can be used to compress the range of extreme values.\n",
    "\n",
    "2) Square Root Transformation: This reduces the impact of higher values in positively skewed data."
   ]
  },
  {
   "cell_type": "code",
   "execution_count": 7,
   "id": "d4211ac4",
   "metadata": {},
   "outputs": [],
   "source": [
    "# Applying log transformation (for positive values only)\n",
    "df['log_marks'] = np.log(df['marks'] + 1)  # Adding 1 to avoid log(0)\n"
   ]
  },
  {
   "cell_type": "markdown",
   "id": "c65c16f4",
   "metadata": {},
   "source": [
    "3) Winsorization: This technique involves capping the extreme values at a certain percentile (e.g., 1st and 99th percentile)."
   ]
  },
  {
   "cell_type": "code",
   "execution_count": 10,
   "id": "05c1b362",
   "metadata": {},
   "outputs": [],
   "source": [
    "from scipy.stats import mstats\n",
    "\n",
    "# Winsorize the data to cap the outliers\n",
    "df['winsorized_marks'] = mstats.winsorize(df['marks'], limits=[0.05, 0.05])  # Limits 5% on both sides\n"
   ]
  },
  {
   "cell_type": "markdown",
   "id": "9a0268f0-ef24-4a91-829d-a349856a40bf",
   "metadata": {},
   "source": [
    "## 5 number Summary And Box Plot"
   ]
  },
  {
   "cell_type": "code",
   "execution_count": 1,
   "id": "8b07cdf2-c8ee-4078-b906-89735d4d2789",
   "metadata": {},
   "outputs": [],
   "source": [
    "## Minimum,MAximum,Median,Q1,Q3,IQR"
   ]
  },
  {
   "cell_type": "code",
   "execution_count": 26,
   "id": "ec419cc5-7f01-448a-b140-5bb57b463336",
   "metadata": {},
   "outputs": [],
   "source": [
    "import numpy as np"
   ]
  },
  {
   "cell_type": "code",
   "execution_count": 27,
   "id": "f5ad4dc0-f110-44fc-acd7-0e70e6feece7",
   "metadata": {},
   "outputs": [],
   "source": [
    "lst_marks=[45,32,56,75,89,54,32,89,90,87,67,54,45,98,99,67,74]\n",
    "minimum,Q1,median,Q3,maximum=np.quantile(lst_marks,[0,0.25,0.50,0.75,1.0])"
   ]
  },
  {
   "cell_type": "code",
   "execution_count": 39,
   "id": "0dbbfee2-dfae-458d-a2ab-e1eb3e4cffed",
   "metadata": {},
   "outputs": [
    {
     "data": {
      "text/plain": [
       "(np.float64(32.0),\n",
       " np.float64(54.0),\n",
       " np.float64(67.0),\n",
       " np.float64(89.0),\n",
       " np.float64(99.0))"
      ]
     },
     "execution_count": 39,
     "metadata": {},
     "output_type": "execute_result"
    }
   ],
   "source": [
    "minimum,Q1,median,Q3,maximum"
   ]
  },
  {
   "cell_type": "code",
   "execution_count": 29,
   "id": "dc9f9703-3fe8-419c-ba76-28fa48cf5d17",
   "metadata": {},
   "outputs": [
    {
     "name": "stdout",
     "output_type": "stream",
     "text": [
      "35.0\n"
     ]
    }
   ],
   "source": [
    "IQR=Q3-Q1\n",
    "print(IQR)"
   ]
  },
  {
   "cell_type": "code",
   "execution_count": 40,
   "id": "e9a4c199-8a0c-4ff0-aa5d-43e8c39ef9ec",
   "metadata": {},
   "outputs": [],
   "source": [
    "lower_fence=Q1-1.5*(IQR)\n",
    "higher_fence=Q3+1.5*(IQR)\n"
   ]
  },
  {
   "cell_type": "code",
   "execution_count": 31,
   "id": "14b431fb-70e0-4b64-8c30-03cc62e223d6",
   "metadata": {},
   "outputs": [
    {
     "data": {
      "text/plain": [
       "np.float64(1.5)"
      ]
     },
     "execution_count": 31,
     "metadata": {},
     "output_type": "execute_result"
    }
   ],
   "source": [
    "lower_fence"
   ]
  },
  {
   "cell_type": "code",
   "execution_count": 32,
   "id": "a1e02d6e-4c55-4244-a86a-896d90d30f60",
   "metadata": {},
   "outputs": [
    {
     "data": {
      "text/plain": [
       "np.float64(141.5)"
      ]
     },
     "execution_count": 32,
     "metadata": {},
     "output_type": "execute_result"
    }
   ],
   "source": [
    "higher_fence"
   ]
  },
  {
   "cell_type": "code",
   "execution_count": 33,
   "id": "b9f977b8-6f08-4a34-adea-9c141902af42",
   "metadata": {},
   "outputs": [],
   "source": [
    "lst_marks=[45,32,56,75,89,54,32,89,90,87,67,54,45,98,99,67,74]"
   ]
  },
  {
   "cell_type": "code",
   "execution_count": 34,
   "id": "73c5492b-2fff-47b6-9c59-369db982a50f",
   "metadata": {},
   "outputs": [],
   "source": [
    "import seaborn as sns"
   ]
  },
  {
   "cell_type": "code",
   "execution_count": 35,
   "id": "dd5c627a-2867-4467-82d7-6c272c279d1b",
   "metadata": {},
   "outputs": [
    {
     "data": {
      "text/plain": [
       "<Axes: >"
      ]
     },
     "execution_count": 35,
     "metadata": {},
     "output_type": "execute_result"
    },
    {
     "data": {
      "image/png": "[encoded data removed]",
      "text/plain": [
       "<Figure size 640x480 with 1 Axes>"
      ]
     },
     "metadata": {},
     "output_type": "display_data"
    }
   ],
   "source": [
    "sns.boxplot(lst_marks)"
   ]
  },
  {
   "cell_type": "code",
   "execution_count": 41,
   "id": "f2973d0b-ae24-45e7-86d0-fd8163e93185",
   "metadata": {},
   "outputs": [],
   "source": [
    "lst_marks=[-100,-200,45,32,56,75,89,54,32,89,90,87,67,54,45,98,99,67,74,150,170,180]"
   ]
  },
  {
   "cell_type": "code",
   "execution_count": 42,
   "id": "51e31dff-b00d-4132-a914-91f8a31a5605",
   "metadata": {},
   "outputs": [
    {
     "data": {
      "text/plain": [
       "<Axes: >"
      ]
     },
     "execution_count": 42,
     "metadata": {},
     "output_type": "execute_result"
    },
    {
     "data": {
      "image/png": "[encoded data removed]",
      "text/plain": [
       "<Figure size 640x480 with 1 Axes>"
      ]
     },
     "metadata": {},
     "output_type": "display_data"
    }
   ],
   "source": [
    "sns.boxplot(lst_marks)"
   ]
  },
  {
   "cell_type": "code",
   "execution_count": null,
   "id": "57eff423-80d8-45ed-b8b7-50446e63faa5",
   "metadata": {},
   "outputs": [],
   "source": []
  },
  {
   "cell_type": "code",
   "execution_count": null,
   "id": "887c0cfa-4dc2-4e96-a82d-506ffadbe71e",
   "metadata": {},
   "outputs": [],
   "source": []
  }
 ],
 "metadata": {
  "kernelspec": {
   "display_name": "Python 3",
   "language": "python",
   "name": "python3"
  },
  "language_info": {
   "codemirror_mode": {
    "name": "ipython",
    "version": 3
   },
   "file_extension": ".py",
   "mimetype": "text/x-python",
   "name": "python",
   "nbconvert_exporter": "python",
   "pygments_lexer": "ipython3",
   "version": "3.12.0"
  }
 },
 "nbformat": 4,
 "nbformat_minor": 5
}

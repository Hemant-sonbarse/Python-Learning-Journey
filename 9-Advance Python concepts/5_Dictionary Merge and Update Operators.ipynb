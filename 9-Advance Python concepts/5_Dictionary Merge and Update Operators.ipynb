{
 "cells": [
  {
   "cell_type": "markdown",
   "metadata": {},
   "source": [
    "## Dictionary Merge and Update Operators"
   ]
  },
  {
   "cell_type": "markdown",
   "metadata": {},
   "source": [
    "Merge Operator (|)\n",
    "\n",
    "Creates a new dictionary by merging two dictionaries.\n",
    "Does not modify the original dictionaries"
   ]
  },
  {
   "cell_type": "code",
   "execution_count": 1,
   "metadata": {},
   "outputs": [
    {
     "name": "stdout",
     "output_type": "stream",
     "text": [
      "{'a': 1, 'b': 3, 'c': 4}\n"
     ]
    }
   ],
   "source": [
    "dict1 = {\"a\": 1, \"b\": 2}\n",
    "dict2 = {\"b\": 3, \"c\": 4}\n",
    "\n",
    "merged_dict = dict1 | dict2  # Merge both dictionaries\n",
    "print(merged_dict)\n"
   ]
  },
  {
   "cell_type": "markdown",
   "metadata": {},
   "source": [
    "Update Operator (|=)\n",
    "\n",
    "Updates the first dictionary in place with values from the second dictionary."
   ]
  },
  {
   "cell_type": "code",
   "execution_count": 2,
   "metadata": {},
   "outputs": [
    {
     "name": "stdout",
     "output_type": "stream",
     "text": [
      "{'a': 1, 'b': 3, 'c': 4}\n"
     ]
    }
   ],
   "source": [
    "dict1 = {\"a\": 1, \"b\": 2}\n",
    "dict2 = {\"b\": 3, \"c\": 4}\n",
    "\n",
    "dict1 |= dict2  # Update dict1 with dict2\n",
    "print(dict1)\n"
   ]
  },
  {
   "cell_type": "code",
   "execution_count": 4,
   "metadata": {},
   "outputs": [
    {
     "name": "stdout",
     "output_type": "stream",
     "text": [
      "{'name': 'Alice', 'age': 26, 'city': 'New York'}\n"
     ]
    }
   ],
   "source": [
    "dict1 = {\"name\": \"Alice\", \"age\": 25}\n",
    "dict2 = {\"age\": 26, \"city\": \"New York\"}\n",
    "\n",
    "dict1 |= dict2  # Merge dict2 into dict1\n",
    "print(dict1)\n"
   ]
  },
  {
   "cell_type": "code",
   "execution_count": 3,
   "metadata": {},
   "outputs": [
    {
     "name": "stdout",
     "output_type": "stream",
     "text": [
      "{'id': 101, 'name': 'John', 'grade': 'A', 'city': 'Los Angeles'}\n"
     ]
    }
   ],
   "source": [
    "student = {\"id\": 101, \"name\": \"John\"}\n",
    "extra_info = {\"grade\": \"A\", \"city\": \"Los Angeles\"}\n",
    "\n",
    "student |= extra_info\n",
    "print(student)\n"
   ]
  }
 ],
 "metadata": {
  "kernelspec": {
   "display_name": "Python 3",
   "language": "python",
   "name": "python3"
  },
  "language_info": {
   "codemirror_mode": {
    "name": "ipython",
    "version": 3
   },
   "file_extension": ".py",
   "mimetype": "text/x-python",
   "name": "python",
   "nbconvert_exporter": "python",
   "pygments_lexer": "ipython3",
   "version": "3.10.2"
  }
 },
 "nbformat": 4,
 "nbformat_minor": 2
}

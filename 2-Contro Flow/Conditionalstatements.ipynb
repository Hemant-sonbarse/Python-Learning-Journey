{
 "cells": [
  {
   "cell_type": "markdown",
   "metadata": {},
   "source": [
    "## Conditional Statements (if, else, elif)"
   ]
  },
  {
   "cell_type": "code",
   "execution_count": null,
   "metadata": {},
   "outputs": [
    {
     "name": "stdout",
     "output_type": "stream",
     "text": [
      "You are allowed to vote\n"
     ]
    }
   ],
   "source": [
    "## if statement\n",
    "#It executes a block of code if the given condition is true.\n",
    "\n",
    "age = 20\n",
    "\n",
    "if age>=18:\n",
    "    print(\"You are allowed to vote\")\n"
   ]
  },
  {
   "cell_type": "code",
   "execution_count": null,
   "metadata": {},
   "outputs": [
    {
     "name": "stdout",
     "output_type": "stream",
     "text": [
      "You are a minor\n"
     ]
    }
   ],
   "source": [
    "## Else statement \n",
    "# agr if condition false hah to else condition execute hogi\n",
    "\n",
    "age = 16\n",
    "\n",
    "if age>=18:\n",
    "    print(\"You are allowed to vote\")\n",
    "else:\n",
    "    print(\"You are a minor\")"
   ]
  },
  {
   "cell_type": "code",
   "execution_count": null,
   "metadata": {},
   "outputs": [
    {
     "name": "stdout",
     "output_type": "stream",
     "text": [
      "You are a adult.\n"
     ]
    }
   ],
   "source": [
    "## Elif statement\n",
    "# The elif statement allow you to check multiple conditions.\n",
    "\n",
    "age = 25\n",
    "\n",
    "if age <= 12:\n",
    "    print(\"Child.\")\n",
    "elif age <= 19:\n",
    "    print(\"Teenager.\")\n",
    "elif age <= 35:\n",
    "    print(\"You are a adult.\")\n",
    "else:\n",
    "    print(\"Adult.\")"
   ]
  },
  {
   "cell_type": "code",
   "execution_count": 10,
   "metadata": {},
   "outputs": [
    {
     "name": "stdout",
     "output_type": "stream",
     "text": [
      "The number is positive\n",
      "The number is odd\n"
     ]
    }
   ],
   "source": [
    "## Nested conditional statement\n",
    "\n",
    "# we can place one or more if, elif, else statements inside another if, elif or else statement\n",
    "\n",
    "#Check the number is +, - , even or odd\n",
    "\n",
    "num = int(input(\"Enter number\"))\n",
    "\n",
    "if num>0:\n",
    "    print(\"The number is positive\")\n",
    "    if num%2==0:\n",
    "        print(\"The number is even\")\n",
    "    else:\n",
    "        print(\"The number is odd\")\n",
    "else:\n",
    "    print(\"The number is negative\")\n",
    " "
   ]
  },
  {
   "cell_type": "code",
   "execution_count": 12,
   "metadata": {},
   "outputs": [
    {
     "name": "stdout",
     "output_type": "stream",
     "text": [
      "2002 This year is not a leap year\n"
     ]
    }
   ],
   "source": [
    "## Usecases\n",
    "\n",
    "#Determine if a year is a leap year using nested condition statement\n",
    "\n",
    "year = int(input(\"Enter year\"))\n",
    "\n",
    "if year%4==0:\n",
    "    if year%100==0:\n",
    "        if year%400==0:\n",
    "            print(year,\"This year is a leap year\")\n",
    "        else:\n",
    "            print(year,\"This year is not a leap year\")\n",
    "    else:\n",
    "        print(year,\"This year is a leap year\")\n",
    "else:\n",
    "    print(year,\"This year is not a leap year\")"
   ]
  },
  {
   "cell_type": "code",
   "execution_count": 16,
   "metadata": {},
   "outputs": [
    {
     "name": "stdout",
     "output_type": "stream",
     "text": [
      "Result Invalid Operation\n"
     ]
    }
   ],
   "source": [
    "# Simple Calculator\n",
    "\n",
    "num1 = int(input(\"Enter number\"))\n",
    "num2 = int(input(\"Enter number\"))\n",
    "Operation = input('Enter Operator')\n",
    "\n",
    "if Operation == \"+\":\n",
    "    result = num1+num2\n",
    "elif Operation == \"-\":\n",
    "    result = num1-num2\n",
    "elif Operation == \"*\":\n",
    "    result = num1*num2\n",
    "elif Operation == \"/\":\n",
    "    result = num1/num2\n",
    "else:\n",
    "    result = \"Invalid Operation\"\n",
    "\n",
    "print(\"Result\",result)"
   ]
  }
 ],
 "metadata": {
  "kernelspec": {
   "display_name": "Python 3",
   "language": "python",
   "name": "python3"
  },
  "language_info": {
   "codemirror_mode": {
    "name": "ipython",
    "version": 3
   },
   "file_extension": ".py",
   "mimetype": "text/x-python",
   "name": "python",
   "nbconvert_exporter": "python",
   "pygments_lexer": "ipython3",
   "version": "3.12.0"
  }
 },
 "nbformat": 4,
 "nbformat_minor": 2
}
